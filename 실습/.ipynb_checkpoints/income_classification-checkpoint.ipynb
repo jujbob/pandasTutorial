{
 "cells": [
  {
   "cell_type": "code",
   "execution_count": 0,
   "metadata": {
    "colab": {},
    "colab_type": "code",
    "id": "-urfOmGcPgyj"
   },
   "outputs": [],
   "source": [
    "%matplotlib inline\n",
    "import numpy as np\n",
    "import pandas as pd\n",
    "import matplotlib.pyplot as plt\n",
    "import warnings\n",
    "warnings.simplefilter(action = \"ignore\", category = FutureWarning)"
   ]
  },
  {
   "cell_type": "code",
   "execution_count": 0,
   "metadata": {
    "colab": {},
    "colab_type": "code",
    "id": "8bXUl61yjqeO"
   },
   "outputs": [],
   "source": [
    "import os\n",
    "from urllib.request import urlretrieve\n",
    "\n",
    "# 인터넷에 있는 데이터 다운로드\n",
    "url = (\"https://archive.ics.uci.edu/ml/machine-learning-databases\"\n",
    "       \"/adult/adult.data\")\n",
    "local_filename = os.path.basename(url)\n",
    "if not os.path.exists(local_filename):\n",
    "    print(\"Downloading Adult Census datasets from UCI\")\n",
    "    urlretrieve(url, local_filename)\n",
    "\n",
    "# 각 열의 명칭 지정    \n",
    "names = (\"age, workclass, fnlwgt, education, education-num, \"\n",
    "         \"marital-status, occupation, relationship, race, sex, \"\n",
    "         \"capital-gain, capital-loss, hours-per-week, \"\n",
    "         \"native-country, income\").split(', ')    \n",
    "\n",
    "# 다운로드받은 데이터를 DataFrame형태로 불러오기\n",
    "data = pd.read_csv(local_filename, names=names)    "
   ]
  },
  {
   "cell_type": "code",
   "execution_count": 0,
   "metadata": {
    "colab": {},
    "colab_type": "code",
    "id": "fysdk3v3jtgN"
   },
   "outputs": [],
   "source": [
    "# DataFrame 불러오기\n",
    "data"
   ]
  },
  {
   "cell_type": "code",
   "execution_count": 0,
   "metadata": {
    "colab": {},
    "colab_type": "code",
    "id": "t7GPCkoujvkI"
   },
   "outputs": [],
   "source": [
    "# 초반 n행 반환\n",
    "data.head()\n",
    "# data.head(n=10)"
   ]
  },
  {
   "cell_type": "code",
   "execution_count": 0,
   "metadata": {
    "colab": {},
    "colab_type": "code",
    "id": "94v7xJnSjwsl"
   },
   "outputs": [],
   "source": [
    "# 마지막 n행 반환\n",
    "data.tail()\n",
    "# data.tail(n=10)"
   ]
  },
  {
   "cell_type": "code",
   "execution_count": 0,
   "metadata": {
    "colab": {},
    "colab_type": "code",
    "id": "ZRz9smVCjxWS"
   },
   "outputs": [],
   "source": [
    "# 데이터 수 세기. axis=0: 가로, axis=1: 세로\n",
    "data.count()\n",
    "# data.count(axis=0)\n",
    "# data.count(axis=1)"
   ]
  },
  {
   "cell_type": "code",
   "execution_count": 0,
   "metadata": {
    "colab": {},
    "colab_type": "code",
    "id": "5D9KcFHzjyUF"
   },
   "outputs": [],
   "source": [
    "# DataFrame.dropna(): missing value를 drop\n",
    "data = data.dropna()"
   ]
  },
  {
   "cell_type": "code",
   "execution_count": 0,
   "metadata": {
    "colab": {},
    "colab_type": "code",
    "id": "FpjLotmljzM8"
   },
   "outputs": [],
   "source": [
    "data.count()"
   ]
  },
  {
   "cell_type": "code",
   "execution_count": 0,
   "metadata": {
    "colab": {},
    "colab_type": "code",
    "id": "WP3VAlRxj0JS"
   },
   "outputs": [],
   "source": [
    "# 요약 통계 반환\n",
    "data.describe()"
   ]
  },
  {
   "cell_type": "code",
   "execution_count": 0,
   "metadata": {
    "colab": {},
    "colab_type": "code",
    "id": "yyuxLp6vj1nE"
   },
   "outputs": [],
   "source": [
    "from math import ceil\n",
    "fig = plt.figure(figsize=(20,15))\n",
    "cols = 5\n",
    "rows = ceil(float(data.shape[1]) / cols)\n",
    "for i, column in enumerate(data.columns):\n",
    "    ax = fig.add_subplot(rows, cols, i + 1)\n",
    "    ax.set_title(column)\n",
    "    if data.dtypes[column] == np.object:\n",
    "        data[column].value_counts().plot(kind=\"bar\", axes=ax)\n",
    "    else:\n",
    "        data[column].hist(axes=ax)\n",
    "        plt.xticks(rotation=\"vertical\")\n",
    "plt.subplots_adjust(hspace=0.7, wspace=0.2)"
   ]
  },
  {
   "cell_type": "code",
   "execution_count": 0,
   "metadata": {
    "colab": {},
    "colab_type": "code",
    "id": "AwKpkLsfj0uK"
   },
   "outputs": [],
   "source": [
    "data.hist(column='education-num', bins=10);"
   ]
  },
  {
   "cell_type": "code",
   "execution_count": 0,
   "metadata": {
    "colab": {},
    "colab_type": "code",
    "id": "g0gPW-Eyj4M6"
   },
   "outputs": [],
   "source": [
    "data.hist('hours-per-week', bins=15);"
   ]
  },
  {
   "cell_type": "code",
   "execution_count": 0,
   "metadata": {
    "colab": {},
    "colab_type": "code",
    "id": "hmCxFadKj43F"
   },
   "outputs": [],
   "source": [
    "data.hist('hours-per-week', bins=10);"
   ]
  },
  {
   "cell_type": "code",
   "execution_count": 0,
   "metadata": {
    "colab": {},
    "colab_type": "code",
    "id": "jcb6N0Jqj5nZ"
   },
   "outputs": [],
   "source": [
    "# 숫자 값인 경우에만 동작\n",
    "data.groupby('income').mean()"
   ]
  },
  {
   "cell_type": "code",
   "execution_count": 0,
   "metadata": {
    "colab": {},
    "colab_type": "code",
    "id": "gehscOBNj7z2"
   },
   "outputs": [],
   "source": [
    "# 우리가 구분하고자 하는 값을 target_names으로 선언\n",
    "target_names = data['income'].unique()"
   ]
  },
  {
   "cell_type": "code",
   "execution_count": 0,
   "metadata": {
    "colab": {},
    "colab_type": "code",
    "id": "iS3Mrkgcj9gQ"
   },
   "outputs": [],
   "source": [
    "bins = np.linspace(10, 90, 20)\n",
    "data.hist(column='age', bins=bins);"
   ]
  },
  {
   "cell_type": "code",
   "execution_count": 0,
   "metadata": {
    "colab": {},
    "colab_type": "code",
    "id": "cTktQBjDj_yv"
   },
   "outputs": [],
   "source": [
    "low_income = data[data['income'] == ' <=50K']\n",
    "high_income = data[data['income'] == ' >50K']\n",
    "\n",
    "\n",
    "bins = np.linspace(10, 90, 20)\n",
    "plt.hist(low_income['age'].values, bins=bins, alpha=0.5, label='<=50K')\n",
    "plt.hist(high_income['age'].values, bins=bins, alpha=0.5, label='>50K')\n",
    "plt.legend(loc='best');"
   ]
  },
  {
   "cell_type": "code",
   "execution_count": 0,
   "metadata": {
    "colab": {},
    "colab_type": "code",
    "id": "Jya3G3ackAYM"
   },
   "outputs": [],
   "source": [
    "data.dropna()"
   ]
  },
  {
   "cell_type": "code",
   "execution_count": 0,
   "metadata": {
    "colab": {},
    "colab_type": "code",
    "id": "0O4vEigckBE3"
   },
   "outputs": [],
   "source": [
    "data.plot(x='age', y='hours-per-week', kind='scatter',\n",
    "          alpha=0.02, s=50);"
   ]
  },
  {
   "cell_type": "code",
   "execution_count": 0,
   "metadata": {
    "colab": {},
    "colab_type": "code",
    "id": "X65zS8W-kBwq"
   },
   "outputs": [],
   "source": [
    "# alpha: 투명도 [0,1]\n",
    "# s: 사이즈\n",
    "# c: 색깔(RGB or RGBA 표현 가능)\n",
    "# marker: . , o v ^ < > * x X + D d | - 등등\n",
    "# http://matplotlib.org/api/markers_api.html#module-matplotlib.markers 참조\n",
    "plt.scatter(low_income['age'], low_income['hours-per-week'],\n",
    "            alpha=0.03, s=50, c='blue', label='<=50K');\n",
    "plt.scatter(high_income['age'], high_income['hours-per-week'],\n",
    "            alpha=0.03, s=50, c='green', label='>50K');\n",
    "plt.legend()\n",
    "plt.xlabel('age'); plt.ylabel('hours-per-week');"
   ]
  },
  {
   "cell_type": "code",
   "execution_count": 0,
   "metadata": {
    "colab": {},
    "colab_type": "code",
    "id": "H5ZWSJqFkCiN"
   },
   "outputs": [],
   "source": [
    "# alpha: 투명도 [0,1]\n",
    "# s: 사이즈\n",
    "# c: 색깔(RGB or RGBA 표현 가능)\n",
    "# marker: . , o v ^ < > * x X + D d | - 등등\n",
    "# http://matplotlib.org/api/markers_api.html#module-matplotlib.markers 참조\n",
    "plt.scatter(low_income['education-num'], low_income['hours-per-week'],\n",
    "            alpha=1, s=50, c='lightblue', marker='<', label='<=50K');\n",
    "plt.scatter(high_income['education-num'], high_income['hours-per-week'],\n",
    "            alpha=1, s=50, c='hotpink', marker=\">\", label='>50K');\n",
    "plt.legend()\n",
    "plt.xlabel('education-num'); plt.ylabel('hours-per-week');"
   ]
  },
  {
   "cell_type": "code",
   "execution_count": 0,
   "metadata": {
    "colab": {},
    "colab_type": "code",
    "id": "TYQBZ_SbkDbs"
   },
   "outputs": [],
   "source": [
    "# 15개의 column중 'income'은 target으로, 나머지는 features로\n",
    "target = data['income']\n",
    "features_data = data.drop('income', axis=1)\n",
    "\n",
    "# 숫자값을 가지는 feature 뽑기\n",
    "numeric_features = [c for c in features_data if features_data[c].dtype.kind in ('i', 'f')]\n",
    "numeric_features\n",
    "\n",
    "numeric_data = features_data[numeric_features]\n",
    "numeric_data.head(5)\n",
    "\n",
    "# 기존 features_data에서 숫자 features를 가지는 column을 drop. 남은건 categorical_data\n",
    "categorical_data = features_data.drop(numeric_features, axis=1)\n",
    "categorical_data.head(5)\n",
    "\n",
    "# pd.factorize(): 모델링을 위해 text값을 숫자로 변경할 때 사용\n",
    "pd.factorize(['a','b','c'])\n",
    "\n",
    "# 모델링을 위해 text값을 숫자로 변경\n",
    "categorical_data_encoded = categorical_data.apply(lambda x: pd.factorize(x)[0])\n",
    "categorical_data_encoded.head(5)\n",
    "\n",
    "# 기존 numeric_data와 전처리한 categorical_data_encoded 붙여주기\n",
    "features = pd.concat([numeric_data, categorical_data_encoded], axis=1)\n",
    "features.head()\n",
    "\n",
    "# 다른 방법: one-hot encoding\n",
    "features2 = pd.get_dummies(features_data)\n",
    "features2.head()\n",
    "\n",
    "X = features.values.astype(np.float32)\n",
    "y = (target.values == ' >50K').astype(np.int32)\n"
   ]
  },
  {
   "cell_type": "code",
   "execution_count": 0,
   "metadata": {
    "colab": {},
    "colab_type": "code",
    "id": "cqf6iY4tkXKx"
   },
   "outputs": [],
   "source": [
    "# 학습데이터, 테스트데이터 분리하기\n",
    "from sklearn.model_selection import train_test_split\n",
    "\n",
    "X_train, X_test, y_train, y_test = train_test_split(\n",
    "                                        X, y, test_size=0.2, random_state=0)\n",
    "\n",
    "print(\"length of y_train:{}\\nlength of y_test: {}\".format(len(y_train), len(y_test)))\n",
    "\n",
    "len(y_test)/(len(y_train)+ len(y_test))\n",
    "\n",
    "from sklearn.tree import DecisionTreeClassifier\n",
    "from sklearn.model_selection import cross_val_score\n",
    "\n",
    "clf = DecisionTreeClassifier(max_depth=8)\n",
    "\n",
    "scores = cross_val_score(clf, X_train, y_train, cv=5)\n",
    "print(\"Cross validation 결과: 평균 {:.4f} 표준편차 +/-{:.4f}\".format(\n",
    "    np.mean(scores), np.std(scores)))"
   ]
  },
  {
   "cell_type": "code",
   "execution_count": 0,
   "metadata": {
    "colab": {},
    "colab_type": "code",
    "id": "VX8XjFj4kffp"
   },
   "outputs": [],
   "source": [
    "from io import StringIO\n",
    "import pydotplus\n",
    "from IPython.display import Image\n",
    "from sklearn.tree import export_graphviz\n",
    "\n",
    "\n",
    "def treeviz(tree, feature_names ,class_names): \n",
    "    dot_data = StringIO()  \n",
    "    export_graphviz(clf, out_file=dot_data,  \n",
    "                    feature_names= feature_names,  \n",
    "                    class_names=class_names,  \n",
    "                    filled=True, rounded=True,  \n",
    "                    special_characters=True) \n",
    "    graph = pydotplus.graph_from_dot_data(dot_data.getvalue())  \n",
    "    return Image(graph.create_png())  "
   ]
  },
  {
   "cell_type": "code",
   "execution_count": 0,
   "metadata": {
    "colab": {},
    "colab_type": "code",
    "id": "bDRIO2y3k946"
   },
   "outputs": [],
   "source": [
    "from sklearn.tree import DecisionTreeClassifier\n",
    "from sklearn.model_selection import cross_val_score\n",
    "\n",
    "feature_names = features.columns\n",
    "target_names = np.array(['50K and under','Over 50K']) ## 부등호는 에러를 발생시켜 텍스트로 대체\n",
    "\n",
    "clf = DecisionTreeClassifier(max_depth=1)\n",
    "clf.fit(X_train, y_train)\n",
    "treeviz(clf, feature_names, target_names) "
   ]
  },
  {
   "cell_type": "code",
   "execution_count": 0,
   "metadata": {
    "colab": {},
    "colab_type": "code",
    "id": "9k-_zvs7k_cW"
   },
   "outputs": [],
   "source": [
    "from sklearn.model_selection import learning_curve\n",
    "\n",
    "\n",
    "def plot_learning_curve(estimator, X, y, ylim=(0, 1.1), cv=5,\n",
    "                        n_jobs=-1, train_sizes=np.linspace(.1, 1.0, 5),\n",
    "                        scoring=None):\n",
    "    plt.title(\"Learning curves for %s\" % type(estimator).__name__)\n",
    "    plt.ylim(*ylim); plt.grid()\n",
    "    plt.xlabel(\"Training examples\")\n",
    "    plt.ylabel(\"Score\")\n",
    "    train_sizes, train_scores, validation_scores = learning_curve(\n",
    "        estimator, X, y, cv=cv, n_jobs=n_jobs, train_sizes=train_sizes,\n",
    "        scoring=scoring)\n",
    "    train_scores_mean = np.mean(train_scores, axis=1)\n",
    "    validation_scores_mean = np.mean(validation_scores, axis=1)\n",
    "\n",
    "    plt.plot(train_sizes, train_scores_mean, 'o-', color=\"r\",\n",
    "             label=\"Training score\")\n",
    "    plt.plot(train_sizes, validation_scores_mean, 'o-', color=\"g\",\n",
    "             label=\"Cross-validation score\")\n",
    "    plt.legend(loc=\"best\")\n",
    "    print(\"Best validation score: {:.4f}\".format(validation_scores_mean[-1]))"
   ]
  },
  {
   "cell_type": "code",
   "execution_count": 0,
   "metadata": {
    "colab": {},
    "colab_type": "code",
    "id": "5YfnKlBdlEeU"
   },
   "outputs": [],
   "source": [
    "clf = DecisionTreeClassifier(max_depth=1)\n",
    "plot_learning_curve(clf, X_train, y_train, scoring='roc_auc')"
   ]
  },
  {
   "cell_type": "code",
   "execution_count": 0,
   "metadata": {
    "colab": {},
    "colab_type": "code",
    "id": "fUnQcLSklFnI"
   },
   "outputs": [],
   "source": [
    "clf = DecisionTreeClassifier(max_depth=15)\n",
    "plot_learning_curve(clf, X_train, y_train, scoring='roc_auc')"
   ]
  },
  {
   "cell_type": "code",
   "execution_count": 0,
   "metadata": {
    "colab": {},
    "colab_type": "code",
    "id": "LYhE1cP_lGoa"
   },
   "outputs": [],
   "source": [
    "clf = DecisionTreeClassifier(max_depth=8)\n",
    "plot_learning_curve(clf, X_train, y_train, scoring='roc_auc')"
   ]
  },
  {
   "cell_type": "code",
   "execution_count": 0,
   "metadata": {
    "colab": {},
    "colab_type": "code",
    "id": "C2HAhW5HlHhr"
   },
   "outputs": [],
   "source": [
    "clf = DecisionTreeClassifier(max_depth=4)\n",
    "plot_learning_curve(clf, X_train, y_train, scoring='roc_auc')"
   ]
  },
  {
   "cell_type": "code",
   "execution_count": 0,
   "metadata": {
    "colab": {},
    "colab_type": "code",
    "id": "cMcuXUnglIms"
   },
   "outputs": [],
   "source": [
    "from sklearn.model_selection import validation_curve\n",
    "\n",
    "\n",
    "def plot_validation_curve(estimator, X, y, param_name, param_range,\n",
    "                          ylim=(0, 1.1), cv=5, n_jobs=-1, scoring=None):\n",
    "    estimator_name = type(estimator).__name__\n",
    "    plt.title(\"Validation curves for %s on %s\"\n",
    "              % (param_name, estimator_name))\n",
    "    plt.ylim(*ylim); plt.grid()\n",
    "    plt.xlim(min(param_range), max(param_range))\n",
    "    plt.xlabel(param_name)\n",
    "    plt.ylabel(\"Score\")\n",
    "\n",
    "    train_scores, test_scores = validation_curve(\n",
    "        estimator, X, y, param_name, param_range,\n",
    "        cv=cv, n_jobs=n_jobs, scoring=scoring)\n",
    "\n",
    "    train_scores_mean = np.mean(train_scores, axis=1)\n",
    "    test_scores_mean = np.mean(test_scores, axis=1)\n",
    "    plt.semilogx(param_range, train_scores_mean, 'o-', color=\"r\",\n",
    "                 label=\"Training score\")\n",
    "    plt.semilogx(param_range, test_scores_mean, 'o-', color=\"g\",\n",
    "                 label=\"Cross-validation score\")\n",
    "    plt.legend(loc=\"best\")\n",
    "    \n",
    "    print(\"Best test score: {:.4f}\".format(np.max(test_scores_mean)))"
   ]
  },
  {
   "cell_type": "code",
   "execution_count": 0,
   "metadata": {
    "colab": {},
    "colab_type": "code",
    "id": "2GtHibODlJ_o"
   },
   "outputs": [],
   "source": [
    "clf = DecisionTreeClassifier(max_depth=8)\n",
    "param_name = 'max_depth'\n",
    "param_range = [1, 2, 4, 8, 16, 32]\n",
    "\n",
    "plot_validation_curve(clf, X_train, y_train,\n",
    "                      param_name, param_range, scoring='roc_auc')"
   ]
  },
  {
   "cell_type": "code",
   "execution_count": 0,
   "metadata": {
    "colab": {},
    "colab_type": "code",
    "id": "XVSm8JvRlSfF"
   },
   "outputs": [],
   "source": [
    "plt.figure(figsize=(10, 5))\n",
    "\n",
    "clf.fit(X_train, y_train)\n",
    "ordering = np.argsort(clf.feature_importances_)[::-1]\n",
    "\n",
    "importances = clf.feature_importances_[ordering]\n",
    "feature_names = features.columns[ordering]\n",
    "\n",
    "x = np.arange(len(feature_names))\n",
    "plt.bar(x, importances)\n",
    "plt.xticks(x, feature_names, rotation=90, fontsize=15);"
   ]
  }
 ],
 "metadata": {
  "colab": {
   "collapsed_sections": [],
   "name": "1_income_classification.ipynb",
   "provenance": []
  },
  "kernelspec": {
   "display_name": "PyTorch 1.4 on Python 3.6 (CUDA 10.0)",
   "language": "python",
   "name": "python3"
  },
  "language_info": {
   "codemirror_mode": {
    "name": "ipython",
    "version": 3
   },
   "file_extension": ".py",
   "mimetype": "text/x-python",
   "name": "python",
   "nbconvert_exporter": "python",
   "pygments_lexer": "ipython3",
   "version": "3.6.9"
  }
 },
 "nbformat": 4,
 "nbformat_minor": 1
}
